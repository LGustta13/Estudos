{
 "cells": [
  {
   "cell_type": "markdown",
   "metadata": {},
   "source": [
    "# Análise de Dados com Python\n",
    "\n",
    "### Desafio:\n",
    "\n",
    "Você trabalha em uma empresa de telecom e tem clientes de vários serviços diferentes, entre os principais: internet e telefone.\n",
    "\n",
    "O problema é que, analisando o histórico dos clientes dos últimos anos, você percebeu que a empresa está com Churn de mais de 26% dos clientes.\n",
    "\n",
    "Isso representa uma perda de milhões para a empresa.\n",
    "\n",
    "O que a empresa precisa fazer para resolver isso?\n",
    "\n",
    "Base de Dados: https://drive.google.com/drive/folders/1T7D0BlWkNuy_MDpUHuBG44kT80EmRYIs?usp=sharing <br>\n",
    "Link Original do Kaggle: https://www.kaggle.com/radmirzosimov/telecom-users-dataset"
   ]
  },
  {
   "cell_type": "code",
   "execution_count": null,
   "metadata": {
    "scrolled": true
   },
   "outputs": [],
   "source": [
    "!pip install plotly"
   ]
  },
  {
   "cell_type": "code",
   "execution_count": 20,
   "metadata": {},
   "outputs": [],
   "source": [
    "import pandas as pd\n",
    "import plotly.express as px\n"
   ]
  },
  {
   "cell_type": "code",
   "execution_count": null,
   "metadata": {
    "scrolled": false
   },
   "outputs": [],
   "source": [
    "# Lógica de programação\n",
    "# Passo 1: Importar a base de dados\n",
    "df = pd.read_csv(\"telecom_users.csv\")\n",
    "table = df.drop(columns = [\"Unnamed: 0\"],axis=1)\n",
    "\n",
    "# Passo 2: Visualizar a base de dados\n",
    "# print(table.info())\n",
    "# display(table)\n",
    "\n",
    "# Passo 3: Tratamento de dados\n",
    "table[\"TotalGasto\"] = pd.to_numeric(table[\"TotalGasto\"],errors=\"coerce\")\n",
    "table = table.dropna(how=\"all\", axis=1) # Coluna NaN\n",
    "table = table.dropna(how = \"any\", axis = 0) # Linha NaN\n",
    "\n",
    "# Passo 4: Análise Inicial (Usar a coluna Churn)\n",
    "display(table[\"Churn\"].value_counts())\n",
    "display(table[\"Churn\"].value_counts(normalize=True).map('{:.1%}'.format))\n",
    "\n",
    "# Passo 5: Análise Completa\n",
    "for coluna in table:\n",
    "    if coluna != \"IDCliente\":\n",
    "        fig = px.histogram(table,x=coluna, color=\"Churn\")\n",
    "        fig.show()\n",
    "        display(table.pivot_table(index=\"Churn\", columns=coluna, aggfunc='count')['IDCliente'])\n",
    "        \n",
    "# Passo 6: Gráficos\n",
    "\n"
   ]
  },
  {
   "cell_type": "markdown",
   "metadata": {},
   "source": [
    "### Conclusões e Ações"
   ]
  },
  {
   "cell_type": "markdown",
   "metadata": {},
   "source": [
    "Escreva aqui suas conclusões:\n",
    "\n",
    "- Clientes com contrato mensal tem MUITO mais chance de cancelar:\n",
    "    - Podemos fazer promoções para o cliente ir para o contrato anual\n",
    "    - Familias maiores tendem a cancelar menos do que famílias menores\n",
    "\n",
    "- Podemos fazer promoções pra pessoa pegar uma linha adicional de telefone\n",
    "    - MesesComoCliente baixos tem MUITO cancelamento. Clientes com pouco tempo como cliente tendem a cancelar muito\n",
    "\n",
    "- A primeira experiência do cliente na operadora pode ser ruim\n",
    "    - Talvez a captação de clientes tá trazendo clientes desqualificados\n",
    "    - Ideia: a gente pode criar incentivo pro cara ficar mais tempo como cliente\n",
    "    - QUanto mais serviços o cara tem, menos chance dele cancelar\n",
    "\n",
    "- Podemos fazer promoções com mais serviços pro cliente\n",
    "    - Tem alguma coisa no nosso serviço de Fibra que tá fazendo os clientes cancelarem\n",
    "\n",
    "- Agir sobre a fibra\n",
    "    - Clientes no boleto tem MUITO mais chance de cancelar, então temos que fazer alguma ação para eles irem para as outras formas de pagamento"
   ]
  }
 ],
 "metadata": {
  "kernelspec": {
   "display_name": "Python 3",
   "language": "python",
   "name": "python3"
  },
  "language_info": {
   "codemirror_mode": {
    "name": "ipython",
    "version": 3
   },
   "file_extension": ".py",
   "mimetype": "text/x-python",
   "name": "python",
   "nbconvert_exporter": "python",
   "pygments_lexer": "ipython3",
   "version": "3.8.5"
  }
 },
 "nbformat": 4,
 "nbformat_minor": 4
}
